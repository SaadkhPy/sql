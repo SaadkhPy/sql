{
 "cells": [
  {
   "cell_type": "markdown",
   "id": "cea23852",
   "metadata": {},
   "source": [
    "[MySQL](https://en.wikipedia.org/wiki/MySQL)"
   ]
  },
  {
   "cell_type": "markdown",
   "id": "08dd9e57",
   "metadata": {},
   "source": [
    "<img src=\"./images/mysql.png\" alt=\"mysql\" width=\"400\" height=\"200\" />\n"
   ]
  },
  {
   "cell_type": "markdown",
   "id": "62240f2e",
   "metadata": {},
   "source": [
    "# Installing MySQL"
   ]
  },
  {
   "cell_type": "markdown",
   "id": "8d23f285",
   "metadata": {},
   "source": [
    "## MySQL Forks\n",
    "- MySQL Community Edition\n",
    "- Percona Server for MySQL\n",
    "- MariaDB Server\n",
    "- MySQL Enterprise Edition"
   ]
  },
  {
   "cell_type": "markdown",
   "id": "dc361d9c",
   "metadata": {},
   "source": [
    "## Installation Choices and Platforms"
   ]
  },
  {
   "cell_type": "markdown",
   "id": "2c1670ba",
   "metadata": {},
   "source": [
    "[Supported Platforms: MySQL Database](https://www.mysql.com/support/supportedplatforms/database.html)"
   ]
  },
  {
   "cell_type": "markdown",
   "id": "b61eb6ee",
   "metadata": {},
   "source": [
    "[MySQL Community Server](https://dev.mysql.com/downloads/mysql/)"
   ]
  },
  {
   "cell_type": "markdown",
   "id": "05728bd5",
   "metadata": {},
   "source": [
    "### 1. Download the Distribution that You Want to Install"
   ]
  },
  {
   "cell_type": "markdown",
   "id": "f52e6de3",
   "metadata": {},
   "source": [
    "### 2. Install the Distribution"
   ]
  },
  {
   "cell_type": "markdown",
   "id": "7a9ef7da",
   "metadata": {},
   "source": [
    "### 3. Perform Any Necessary Post-Installation Setup"
   ]
  },
  {
   "cell_type": "markdown",
   "id": "ccf1d8b1",
   "metadata": {},
   "source": [
    "- `mysql_secure_installation`\n",
    "- Set root password\n",
    "- Remove test DB\n",
    "- Disable remote root access"
   ]
  },
  {
   "cell_type": "markdown",
   "id": "d74d1734",
   "metadata": {},
   "source": [
    "### 4. Run Benchmarks"
   ]
  },
  {
   "cell_type": "markdown",
   "id": "ee198734",
   "metadata": {},
   "source": [
    "## Installing MySQL on Linux"
   ]
  },
  {
   "cell_type": "markdown",
   "id": "d78fd9fa",
   "metadata": {},
   "source": [
    "`$ sudo apt install mysql-server -y`  \n",
    "`$ sudo systemctl start mysql`  \n",
    "`$ mysql_secure_installation`, OR  z`$ sudo mysql`  \n",
    "`- ALTER USER 'root'@'localhost' IDENTIFIED WITH mysql_native_password by 'P@ssw0rd'`"
   ]
  },
  {
   "cell_type": "markdown",
   "id": "b1bdb6e4",
   "metadata": {},
   "source": [
    "## The Contents of the MySQL Directory"
   ]
  },
  {
   "cell_type": "markdown",
   "id": "aa8d7ba0",
   "metadata": {},
   "source": [
    "`mysql> SELECT @@datadir;`"
   ]
  },
  {
   "cell_type": "markdown",
   "id": "57f0487f",
   "metadata": {},
   "source": [
    "## Using the Command-Line Interface"
   ]
  },
  {
   "cell_type": "markdown",
   "id": "375de727",
   "metadata": {},
   "source": [
    "`# mysql`"
   ]
  },
  {
   "cell_type": "markdown",
   "id": "d19c283a",
   "metadata": {},
   "source": [
    "`# mysql -uroot -pP@ssw0rd -e \"SHOW ENGINE INNODB STATUS\\G\"`"
   ]
  },
  {
   "cell_type": "markdown",
   "id": "eee4d0ef",
   "metadata": {},
   "source": [
    "## Using Docker"
   ]
  },
  {
   "cell_type": "markdown",
   "id": "d3440e6c",
   "metadata": {},
   "source": [
    "`$ docker run --name mysql-latest --hostname my_sql \\\n",
    "  -p 3306:3306 -p 33060:33060 \\\n",
    "  -e MYSQL_ROOT_HOST=% -e  \\\n",
    "  MYSQL_ROOT_PASSWORD='P@ssw0rd' \\\n",
    "  -d mysql/mysql-server:latest`"
   ]
  },
  {
   "cell_type": "markdown",
   "id": "815dfcb8",
   "metadata": {},
   "source": [
    "Docker Compose"
   ]
  },
  {
   "cell_type": "markdown",
   "id": "16d408fd",
   "metadata": {},
   "source": [
    "### MySQL Workbench"
   ]
  },
  {
   "cell_type": "markdown",
   "id": "bfad2bf5",
   "metadata": {},
   "source": [
    "### VSCode Extensions"
   ]
  },
  {
   "cell_type": "markdown",
   "id": "8c3720cb",
   "metadata": {},
   "source": [
    "### docker hoster for name resolution\n",
    "`docker run -d -v /var/run/docker.sock:/tmp/docker.sock -v /etc/hosts:/tmp/hosts asami76/docker-hoster`\n"
   ]
  }
 ],
 "metadata": {
  "kernelspec": {
   "display_name": "Python 3 (ipykernel)",
   "language": "python",
   "name": "python3"
  },
  "language_info": {
   "codemirror_mode": {
    "name": "ipython",
    "version": 3
   },
   "file_extension": ".py",
   "mimetype": "text/x-python",
   "name": "python",
   "nbconvert_exporter": "python",
   "pygments_lexer": "ipython3",
   "version": "3.10.4"
  }
 },
 "nbformat": 4,
 "nbformat_minor": 5
}
